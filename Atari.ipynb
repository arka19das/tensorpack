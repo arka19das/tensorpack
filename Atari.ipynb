{
  "nbformat": 4,
  "nbformat_minor": 0,
  "metadata": {
    "colab": {
      "name": "Atari.ipynb",
      "provenance": [],
      "collapsed_sections": [],
      "include_colab_link": true
    },
    "kernelspec": {
      "name": "python3",
      "display_name": "Python 3"
    },
    "accelerator": "GPU"
  },
  "cells": [
    {
      "cell_type": "markdown",
      "metadata": {
        "id": "view-in-github",
        "colab_type": "text"
      },
      "source": [
        "<a href=\"https://colab.research.google.com/github/sajalgoyal113/tensorpack/blob/master/Atari.ipynb\" target=\"_parent\"><img src=\"https://colab.research.google.com/assets/colab-badge.svg\" alt=\"Open In Colab\"/></a>"
      ]
    },
    {
      "cell_type": "code",
      "metadata": {
        "id": "mVAW2Hu6w32u",
        "colab_type": "code",
        "colab": {}
      },
      "source": [
        "!git clone https://github.com/sajalgoyal113/tensorpack"
      ],
      "execution_count": 0,
      "outputs": []
    },
    {
      "cell_type": "code",
      "metadata": {
        "id": "zDrbk1L56B3u",
        "colab_type": "code",
        "outputId": "f1cfd586-83e4-4ff8-eea4-921730ea6055",
        "colab": {
          "base_uri": "https://localhost:8080/",
          "height": 34
        }
      },
      "source": [
        "cd tensorpack/examples/DeepQNetwork/"
      ],
      "execution_count": 0,
      "outputs": [
        {
          "output_type": "stream",
          "text": [
            "/content/tensorpack/examples/DeepQNetwork\n"
          ],
          "name": "stdout"
        }
      ]
    },
    {
      "cell_type": "code",
      "metadata": {
        "id": "CCoIlv8AzUrS",
        "colab_type": "code",
        "outputId": "816f88d1-36f6-4fb1-f2c7-5cc6204c64e3",
        "colab": {
          "base_uri": "https://localhost:8080/",
          "height": 51
        }
      },
      "source": [
        "!ls\n",
        "#!wget https://github.com/openai/atari-py/raw/gdb/atari_py/atari_roms/breakout.bin"
      ],
      "execution_count": 0,
      "outputs": [
        {
          "output_type": "stream",
          "text": [
            "atari.py\t  breakout.bin\tcommon.py\t    DQNModel.py  expreplay.py\n",
            "atari_wrapper.py  breakout.jpg\tcurve-breakout.png  DQN.py\t README.md\n"
          ],
          "name": "stdout"
        }
      ]
    },
    {
      "cell_type": "code",
      "metadata": {
        "id": "3r4tRYuEyM6d",
        "colab_type": "code",
        "colab": {}
      },
      "source": [
        "!pip install --upgrade git+https://github.com/tensorpack/tensorpack.git"
      ],
      "execution_count": 0,
      "outputs": []
    },
    {
      "cell_type": "code",
      "metadata": {
        "id": "A5EFL4zayhKv",
        "colab_type": "code",
        "outputId": "c7f7e358-dac8-4f46-98bf-85d52856ae6c",
        "colab": {
          "base_uri": "https://localhost:8080/",
          "height": 34
        }
      },
      "source": [
        "%tensorflow_version 1.x"
      ],
      "execution_count": 0,
      "outputs": [
        {
          "output_type": "stream",
          "text": [
            "TensorFlow 1.x selected.\n"
          ],
          "name": "stdout"
        }
      ]
    },
    {
      "cell_type": "code",
      "metadata": {
        "id": "U0BELvTwyoi2",
        "colab_type": "code",
        "outputId": "dcb260a5-a6cc-4601-a24b-dc19a8cd71d1",
        "colab": {
          "base_uri": "https://localhost:8080/",
          "height": 34
        }
      },
      "source": [
        "import tensorflow   \n",
        "print(tensorflow.__version__)"
      ],
      "execution_count": 0,
      "outputs": [
        {
          "output_type": "stream",
          "text": [
            "1.15.2\n"
          ],
          "name": "stdout"
        }
      ]
    },
    {
      "cell_type": "code",
      "metadata": {
        "id": "CZ21Oyxwx8dt",
        "colab_type": "code",
        "colab": {}
      },
      "source": [
        "!./DQN.py --env breakout.bin --algo DQN"
      ],
      "execution_count": 0,
      "outputs": []
    },
    {
      "cell_type": "code",
      "metadata": {
        "id": "OKR2TvE92ySq",
        "colab_type": "code",
        "colab": {}
      },
      "source": [
        ""
      ],
      "execution_count": 0,
      "outputs": []
    },
    {
      "cell_type": "code",
      "metadata": {
        "id": "mziDsx46IbDC",
        "colab_type": "code",
        "colab": {}
      },
      "source": [
        "!./DQN.py --env breakout.bin --task play --load ./train_log/DQN-breakout/model-2000000"
      ],
      "execution_count": 0,
      "outputs": []
    },
    {
      "cell_type": "code",
      "metadata": {
        "id": "j_YuJ41jHiZM",
        "colab_type": "code",
        "colab": {}
      },
      "source": [
        "#!zip -r /content/file.zip /content/tensorpack/examples/DeepQNetwork/train_log/DQN-breakout"
      ],
      "execution_count": 0,
      "outputs": []
    },
    {
      "cell_type": "code",
      "metadata": {
        "id": "AguELcufIMtg",
        "colab_type": "code",
        "colab": {}
      },
      "source": [
        "#from google.colab import files\n",
        "#files.download(\"/content/file.zip\")"
      ],
      "execution_count": 0,
      "outputs": []
    }
  ]
}